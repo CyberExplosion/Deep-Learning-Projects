{
 "cells": [
  {
   "attachments": {},
   "cell_type": "markdown",
   "metadata": {},
   "source": [
    "# Explore the dataset"
   ]
  },
  {
   "cell_type": "code",
   "execution_count": 4,
   "metadata": {},
   "outputs": [],
   "source": [
    "import torch.nn as nn\n",
    "import torch\n",
    "# import os\n",
    "from pathlib import Path"
   ]
  },
  {
   "cell_type": "code",
   "execution_count": 5,
   "metadata": {},
   "outputs": [
    {
     "name": "stdout",
     "output_type": "stream",
     "text": [
      "12077_8.txt: \n",
      "Greatly enjoyed this 1945 mystery thriller film about a young woman, Nina Foch,(Julia Ross) who is out of work and has fallen behind in her rent and is desperate to find work. Julia reads an ad in the local London newspaper looking for a secretary and rushes out to try and obtain this position. Julia obtains the position and is hired by a Mrs. Hughes, (Dame May Witty) who requires that she lives with her employer in her home and wants her to have no involvement with men friends and Julia tells them she has no family and is free to devote her entire time to this job. George Macready, (Ralph Hughes) is the son of Mrs. Hughes and has some very strange desires for playing around with knives. This was a low budget film and most of the scenes were close ups in order to avoid the expense of a background and costs for scenery. This strange family all live in a huge mansion off the Cornwall Coast of England and there is secret doors and plenty of suspense.\n",
      "\n"
     ]
    }
   ],
   "source": [
    "# Reading in 1 file\n",
    "for p in Path('data/text_classification/train/pos/').glob('*.txt'):\n",
    "    print(f'{p.name}: \\n{p.read_text()}\\n')\n",
    "    break"
   ]
  },
  {
   "cell_type": "code",
   "execution_count": 6,
   "metadata": {},
   "outputs": [
    {
     "name": "stdout",
     "output_type": "stream",
     "text": [
      "['Greatly enjoyed this 1945 mystery thriller film about a young woman, Nina Foch,(Julia Ross) who is out of work and has fallen behind in her rent and is desperate to find work. Julia reads an ad in the local London newspaper looking for a secretary and rushes out to try and obtain this position. Julia obtains the position and is hired by a Mrs. Hughes, (Dame May Witty) who requires that she lives with her employer in her home and wants her to have no involvement with men friends and Julia tells them she has no family and is free to devote her entire time to this job. George Macready, (Ralph Hughes) is the son of Mrs. Hughes and has some very strange desires for playing around with knives. This was a low budget film and most of the scenes were close ups in order to avoid the expense of a background and costs for scenery. This strange family all live in a huge mansion off the Cornwall Coast of England and there is secret doors and plenty of suspense.', 'When this movie first came out back in 1984, Prince was one of the hottest acts around. Everyone wanted to see this movie, which was not much more than a extended music video. The acting was pretty bad, but what can you expect from musicians acting on the big screen for the first time? Despite that, it was still a very entertaining film! Morris Day and Jerome Benton provide some all time classic comedy, especially their rendition of \"The Password\", which will make you think of Abbott & Costello doing their \"who\\'s on first\" baseball routine.<br /><br />Appolina (who went by a single name then) provided some beautiful breasts, so you had the brief nudity covered. Plus, she is very attractive. And of course, the soundtrack of the album is one of the best Prince ever recorded. Prince later on had a fallout with Warner Bros. and changed his name, but at this particular time in his career, he was at the top of his game.<br /><br />This movie doesn\\'t rank in the all time great category, but it is pretty entertaining.']\n"
     ]
    }
   ],
   "source": [
    "# Read all files into an array of string\n",
    "posReviews = []\n",
    "for p in Path('data/text_classification/train/pos/').glob('*.txt'):\n",
    "    posReviews.append(p.read_text(encoding='utf8'))\n",
    "print(posReviews[0:2])"
   ]
  },
  {
   "cell_type": "code",
   "execution_count": 7,
   "metadata": {},
   "outputs": [],
   "source": [
    "# # Import all text and use the points as their labels\n",
    "# reviews = []\n",
    "# pts = []\n",
    "# count = 0\n",
    "# for p in Path('data/text_classification/train/pos/').glob('*.txt'):\n",
    "#     reviews.append(p.read_text(encoding='utf8'))\n",
    "#     tailName = p.name.split('_')\n",
    "#     grade = tailName[1].strip('.txt')   # strip the tail\n",
    "#     pts.append(grade)\n",
    "#     if count == 3:\n",
    "#         break\n",
    "#     print(f'FIle name: {p.name} File content: {reviews[count]} and grade: {pts[count]}')\n",
    "#     count += 1\n"
   ]
  },
  {
   "cell_type": "code",
   "execution_count": 8,
   "metadata": {},
   "outputs": [],
   "source": [
    "# # seperate into train and test, positive and negative\n",
    "# reviews = {}\n",
    "# reviews['train'] = {}\n",
    "# reviews['train']['pos'] = []\n",
    "# reviews['train']['neg'] = []\n",
    "# reviews['test'] = {}\n",
    "# reviews['test']['pos'] = []\n",
    "# reviews['test']['neg'] = []\n",
    "# for p in Path('data/text_classification/train/pos/').glob('*.txt'):\n",
    "#     reviews['train']['pos'].append(p.read_text(encoding='utf8'))\n",
    "# for p in Path('data/text_classification/train/neg/').glob('*.txt'):\n",
    "#     reviews['train']['neg'].append(p.read_text(encoding='utf8'))\n",
    "# \n",
    "# for p in Path('data/text_classification/test/pos/').glob('*.txt'):\n",
    "#     reviews['test']['pos'].append(p.read_text(encoding='utf8'))\n",
    "# for p in Path('data/text_classification/test/neg/').glob('*.txt'):\n",
    "#     reviews['test']['neg'].append(p.read_text(encoding='utf8'))\n",
    "# \n",
    "# reviews"
   ]
  },
  {
   "cell_type": "code",
   "execution_count": 9,
   "metadata": {},
   "outputs": [],
   "source": [
    "# combine both negative and pos in train and test to train\n",
    "dataSet = {}\n",
    "dataSet['train'] = []\n",
    "dataSet['test'] = []\n",
    "for p in Path('data/text_classification/train/pos/').glob('*.txt'): # 1 is pos and 0 is neg\n",
    "    entry = p.read_text(encoding='utf8')\n",
    "    dataSet['train'].append((entry, 1))\n",
    "for p in Path('data/text_classification/train/neg/').glob('*.txt'): # 1 is pos and 0 is neg\n",
    "    entry = p.read_text(encoding='utf8')\n",
    "    dataSet['train'].append((entry, 0))\n",
    "\n",
    "for p in Path('data/text_classification/test/pos/').glob('*.txt'): # 1 is pos and 0 is neg\n",
    "    entry = p.read_text(encoding='utf8')\n",
    "    dataSet['test'].append((entry, 1))\n",
    "for p in Path('data/text_classification/test/neg/').glob('*.txt'): # 1 is pos and 0 is neg\n",
    "    entry = p.read_text(encoding='utf8')\n",
    "    dataSet['test'].append((entry, 0))\n"
   ]
  },
  {
   "cell_type": "code",
   "execution_count": 10,
   "metadata": {},
   "outputs": [
    {
     "data": {
      "text/plain": [
       "('Greatly enjoyed this 1945 mystery thriller film about a young woman, Nina Foch,(Julia Ross) who is out of work and has fallen behind in her rent and is desperate to find work. Julia reads an ad in the local London newspaper looking for a secretary and rushes out to try and obtain this position. Julia obtains the position and is hired by a Mrs. Hughes, (Dame May Witty) who requires that she lives with her employer in her home and wants her to have no involvement with men friends and Julia tells them she has no family and is free to devote her entire time to this job. George Macready, (Ralph Hughes) is the son of Mrs. Hughes and has some very strange desires for playing around with knives. This was a low budget film and most of the scenes were close ups in order to avoid the expense of a background and costs for scenery. This strange family all live in a huge mansion off the Cornwall Coast of England and there is secret doors and plenty of suspense.',\n",
       " 1)"
      ]
     },
     "execution_count": 10,
     "metadata": {},
     "output_type": "execute_result"
    }
   ],
   "source": [
    "dataSet['train'][0]"
   ]
  },
  {
   "cell_type": "code",
   "execution_count": 11,
   "metadata": {},
   "outputs": [
    {
     "data": {
      "text/plain": [
       "(\"This has to be one of the best movies we have seen and we highly recommend it for it's exposure of the injustices of bigotry. Billy Wirth is an incomparable actor and truly awesome as Corby/White Wolf. However, felt the story would have been enhanced if his character had more scenes. This is a movie that can be watched over and over without tiring.\",\n",
       " 1)"
      ]
     },
     "execution_count": 11,
     "metadata": {},
     "output_type": "execute_result"
    }
   ],
   "source": [
    "dataSet['test'][1]"
   ]
  },
  {
   "cell_type": "code",
   "execution_count": 12,
   "metadata": {},
   "outputs": [
    {
     "name": "stdout",
     "output_type": "stream",
     "text": [
      "(\"This movie is unworthy of the Omen title. It is so bad that it has actually damaged the classic nature of the first three. It never should have been made, they ought to change the title.<br /><br />They don't even spell Damien Thorn's NAME correctly!!!! And there are no daggers, the most important element of all the Omen films. Pull it from the shelves and burn it.\", 0)\n",
      "('I remember the original series vividly mostly due to it\\'s unique blend of wry humor and macabre subject matter. Kolchak was hard-bitten newsman from the Ben Hecht school of big-city reporting, and his gritty determination and wise-ass demeanor made even the most mundane episode eminently watchable. My personal fave was \"The Spanish Moss Murders\" due to it\\'s totally original storyline. A poor,troubled Cajun youth from Louisiana bayou country, takes part in a sleep research experiment, for the purpose of dream analysis. Something goes inexplicably wrong, and he literally dreams to life a swamp creature inhabiting the dark folk tales of his youth. This malevolent manifestation seeks out all persons who have wronged the dreamer in his conscious state, and brutally suffocates them to death. Kolchak investigates and uncovers this horrible truth, much to the chagrin of police captain Joe \"Mad Dog\" Siska(wonderfully essayed by a grumpy Keenan Wynn)and the head sleep researcher played by Second City improv founder, Severn Darden, to droll, understated perfection. The wickedly funny, harrowing finale takes place in the Chicago sewer system, and is a series highlight. Kolchak never got any better. Timeless.', 1)\n",
      "('It wasn\\'t the most pointless animation film experience ever, but it certainly can\\'t be admired as much as it tries to be good. Combining Dreamworks animation and computer graphics, this is the story of a mustang, later named Spirit (Matt Damon, providing the first person narration), and his journey through across the frontiers of the Old West. Basically he is born free amongst all the other horses in the beautiful countryside, then he is kidnapped to be used as a saddle horse, he manages to throw off all who try to ride him. However when he escapes his cage, along with Little Creek (Daniel Studi), the two of them form a friendship, oh, and he obviously has a thing for Little Creek\\'s female horse. In the end, after a few more escapes, being chased by The Colonel (James Cromwell) and his men, and making a final big leap across a gorge, Little Creek lets Spirit go, and he also releases his female horse, and they run home to their countryside and fellow horses. Also starring Chopper Bernet as Sgt. Adams, Jeff LeBeau as Murphy/Railroad Foreman, John Rubano as Soldier, Richard McGonagle as Bill and Matthew Levin as Joe. I was expecting to see the horses talk in this film, but it turns out to be more like a Dumbo thing throughout, and the songs by Bryan Adams aren\\'t the most engaging, but it isn\\'t a terrible film. It was nominated the Oscar for Best Animated Feature, and it was nominated the Golden Globe for Best Song for Bryan Adams\\' \"Here I Am\". Okay!', 0)\n"
     ]
    }
   ],
   "source": [
    "# Shuffle all data and pick to get a good distribution amount of pos and neg review while train\n",
    "permutation = torch.randperm(len(dataSet['train']))\n",
    "for i in range(0, 3):\n",
    "    randIdx = permutation[i]\n",
    "    print(dataSet['train'][randIdx])"
   ]
  },
  {
   "attachments": {},
   "cell_type": "markdown",
   "metadata": {},
   "source": [
    "# Data Cleaning"
   ]
  },
  {
   "cell_type": "code",
   "execution_count": 18,
   "metadata": {},
   "outputs": [
    {
     "name": "stderr",
     "output_type": "stream",
     "text": [
      "[nltk_data] Downloading collection 'popular'\n",
      "[nltk_data]    | \n",
      "[nltk_data]    | Downloading package cmudict to\n",
      "[nltk_data]    |     /home/ubuntu/nltk_data...\n",
      "[nltk_data]    |   Unzipping corpora/cmudict.zip.\n",
      "[nltk_data]    | Downloading package gazetteers to\n",
      "[nltk_data]    |     /home/ubuntu/nltk_data...\n",
      "[nltk_data]    |   Unzipping corpora/gazetteers.zip.\n",
      "[nltk_data]    | Downloading package genesis to\n",
      "[nltk_data]    |     /home/ubuntu/nltk_data...\n",
      "[nltk_data]    |   Unzipping corpora/genesis.zip.\n",
      "[nltk_data]    | Downloading package gutenberg to\n",
      "[nltk_data]    |     /home/ubuntu/nltk_data...\n",
      "[nltk_data]    |   Unzipping corpora/gutenberg.zip.\n",
      "[nltk_data]    | Downloading package inaugural to\n",
      "[nltk_data]    |     /home/ubuntu/nltk_data...\n",
      "[nltk_data]    |   Unzipping corpora/inaugural.zip.\n",
      "[nltk_data]    | Downloading package movie_reviews to\n",
      "[nltk_data]    |     /home/ubuntu/nltk_data...\n",
      "[nltk_data]    |   Unzipping corpora/movie_reviews.zip.\n",
      "[nltk_data]    | Downloading package names to\n",
      "[nltk_data]    |     /home/ubuntu/nltk_data...\n",
      "[nltk_data]    |   Unzipping corpora/names.zip.\n",
      "[nltk_data]    | Downloading package shakespeare to\n",
      "[nltk_data]    |     /home/ubuntu/nltk_data...\n",
      "[nltk_data]    |   Unzipping corpora/shakespeare.zip.\n",
      "[nltk_data]    | Downloading package stopwords to\n",
      "[nltk_data]    |     /home/ubuntu/nltk_data...\n",
      "[nltk_data]    |   Unzipping corpora/stopwords.zip.\n",
      "[nltk_data]    | Downloading package treebank to\n",
      "[nltk_data]    |     /home/ubuntu/nltk_data...\n",
      "[nltk_data]    |   Unzipping corpora/treebank.zip.\n",
      "[nltk_data]    | Downloading package twitter_samples to\n",
      "[nltk_data]    |     /home/ubuntu/nltk_data...\n",
      "[nltk_data]    |   Unzipping corpora/twitter_samples.zip.\n",
      "[nltk_data]    | Downloading package omw to /home/ubuntu/nltk_data...\n",
      "[nltk_data]    | Downloading package omw-1.4 to\n",
      "[nltk_data]    |     /home/ubuntu/nltk_data...\n",
      "[nltk_data]    | Downloading package wordnet to\n",
      "[nltk_data]    |     /home/ubuntu/nltk_data...\n",
      "[nltk_data]    | Downloading package wordnet2021 to\n",
      "[nltk_data]    |     /home/ubuntu/nltk_data...\n",
      "[nltk_data]    | Downloading package wordnet31 to\n",
      "[nltk_data]    |     /home/ubuntu/nltk_data...\n",
      "[nltk_data]    | Downloading package wordnet_ic to\n",
      "[nltk_data]    |     /home/ubuntu/nltk_data...\n",
      "[nltk_data]    |   Unzipping corpora/wordnet_ic.zip.\n",
      "[nltk_data]    | Downloading package words to\n",
      "[nltk_data]    |     /home/ubuntu/nltk_data...\n",
      "[nltk_data]    |   Unzipping corpora/words.zip.\n",
      "[nltk_data]    | Downloading package maxent_ne_chunker to\n",
      "[nltk_data]    |     /home/ubuntu/nltk_data...\n",
      "[nltk_data]    |   Unzipping chunkers/maxent_ne_chunker.zip.\n",
      "[nltk_data]    | Downloading package punkt to\n",
      "[nltk_data]    |     /home/ubuntu/nltk_data...\n",
      "[nltk_data]    |   Unzipping tokenizers/punkt.zip.\n",
      "[nltk_data]    | Downloading package snowball_data to\n",
      "[nltk_data]    |     /home/ubuntu/nltk_data...\n",
      "[nltk_data]    | Downloading package averaged_perceptron_tagger to\n",
      "[nltk_data]    |     /home/ubuntu/nltk_data...\n",
      "[nltk_data]    |   Unzipping taggers/averaged_perceptron_tagger.zip.\n",
      "[nltk_data]    | \n",
      "[nltk_data]  Done downloading collection popular\n"
     ]
    },
    {
     "data": {
      "text/plain": [
       "True"
      ]
     },
     "execution_count": 18,
     "metadata": {},
     "output_type": "execute_result"
    }
   ],
   "source": [
    "import nltk\n",
    "nltk.download('popular')"
   ]
  },
  {
   "cell_type": "code",
   "execution_count": 32,
   "metadata": {},
   "outputs": [],
   "source": [
    "from nltk.corpus import stopwords\n",
    "from nltk.stem.porter import PorterStemmer\n",
    "import re\n",
    "# https://stackoverflow.com/questions/9662346/python-code-to-remove-html-tags-from-a-string"
   ]
  },
  {
   "cell_type": "code",
   "execution_count": 33,
   "metadata": {},
   "outputs": [],
   "source": [
    "# Now have to read them in as dictionary so that we can split each word and turn whole doc to list of word\n",
    "# combine both negative and pos in train and test to train\n",
    "cleanedTrainData = []\n",
    "stopWords = set(stopwords.words('english'))\n",
    "porter = PorterStemmer()\n",
    "CLEANHTML = re.compile('<.*?>')\n",
    "\n",
    "for entry in dataSet['train']:\n",
    "    # ! Hope the data doesn't contain heavy html tags or else it wouldn't work\n",
    "    text = re.sub(CLEANHTML, '', entry[0])\n",
    "    # split into white space\n",
    "    wordList = nltk.word_tokenize(text)\n",
    "    # remove symbol and stop words\n",
    "    wordList = [word for word in wordList if word.isalpha() and word not in stopWords]\n",
    "    # maybe not stem since small amount of documents\n",
    "    # stemmed = [porter.stem(word) for word in wordList]\n",
    "\n",
    "    # print(wordList)\n",
    "    # print(stemmed)\n",
    "\n",
    "    cleanedTrainData.append((wordList, entry[1]))\n"
   ]
  },
  {
   "cell_type": "code",
   "execution_count": 34,
   "metadata": {},
   "outputs": [
    {
     "name": "stdout",
     "output_type": "stream",
     "text": [
      "[(['Greatly', 'enjoyed', 'mystery', 'thriller', 'film', 'young', 'woman', 'Nina', 'Foch', 'Julia', 'Ross', 'work', 'fallen', 'behind', 'rent', 'desperate', 'find', 'work', 'Julia', 'reads', 'ad', 'local', 'London', 'newspaper', 'looking', 'secretary', 'rushes', 'try', 'obtain', 'position', 'Julia', 'obtains', 'position', 'hired', 'Hughes', 'Dame', 'May', 'Witty', 'requires', 'lives', 'employer', 'home', 'wants', 'involvement', 'men', 'friends', 'Julia', 'tells', 'family', 'free', 'devote', 'entire', 'time', 'job', 'George', 'Macready', 'Ralph', 'Hughes', 'son', 'Hughes', 'strange', 'desires', 'playing', 'around', 'knives', 'This', 'low', 'budget', 'film', 'scenes', 'close', 'ups', 'order', 'avoid', 'expense', 'background', 'costs', 'scenery', 'This', 'strange', 'family', 'live', 'huge', 'mansion', 'Cornwall', 'Coast', 'England', 'secret', 'doors', 'plenty', 'suspense'], 1), (['When', 'movie', 'first', 'came', 'back', 'Prince', 'one', 'hottest', 'acts', 'around', 'Everyone', 'wanted', 'see', 'movie', 'much', 'extended', 'music', 'video', 'The', 'acting', 'pretty', 'bad', 'expect', 'musicians', 'acting', 'big', 'screen', 'first', 'time', 'Despite', 'still', 'entertaining', 'film', 'Morris', 'Day', 'Jerome', 'Benton', 'provide', 'time', 'classic', 'comedy', 'especially', 'rendition', 'The', 'Password', 'make', 'think', 'Abbott', 'Costello', 'first', 'baseball', 'went', 'single', 'name', 'provided', 'beautiful', 'breasts', 'brief', 'nudity', 'covered', 'Plus', 'attractive', 'And', 'course', 'soundtrack', 'album', 'one', 'best', 'Prince', 'ever', 'recorded', 'Prince', 'later', 'fallout', 'Warner', 'changed', 'name', 'particular', 'time', 'career', 'top', 'movie', 'rank', 'time', 'great', 'category', 'pretty', 'entertaining'], 1), (['I', 'watched', 'last', 'night', 'word', 'comes', 'mind', 'original', 'It', 'word', 'used', 'much', 'TV', 'tend', 'copy', 'whatever', 'network', 'end', 'seven', 'nights', 'crime', 'shows', 'unfunny', 'comedies', 'reality', 'first', 'thing', 'hit', 'like', 'brick', 'presence', 'Jim', 'Dale', 'Those', 'familiar', 'British', 'Carry', 'On', 'series', 'listened', 'Harry', 'Potter', 'book', 'may', 'familiar', 'Dale', 'I', 'sure', 'whether', 'presence', 'narrator', 'adds', 'distracts', 'I', 'tune', 'give', 'show', 'Harry', 'Potter', 'atmosphere', 'Maybe', 'good', 'Pace', 'Infamous', 'The', 'White', 'Countess', 'gift', 'It', 'never', 'explains', 'got', 'bring', 'someone', 'back', 'dead', 'minute', 'He', 'teams', 'Chi', 'McBride', 'Boston', 'Public', 'Roll', 'Bounce', 'solve', 'murders', 'using', 'talent', 'Everything', 'fine', 'funny', 'comes', 'across', 'childhood', 'love', 'Anna', 'Friel', 'Goal', 'The', 'Dream', 'Begins', 'Timeline', 'things', 'really', 'get', 'complicated', 'He', 'ca', 'send', 'back', 'never', 'touch', 'Boy', 'would', 'make', 'relationship', 'tuning', 'see', 'series', 'goes', 'expectation', 'continue', 'entertain'], 1)]\n"
     ]
    }
   ],
   "source": [
    "print(cleanedTrainData[0:3])"
   ]
  },
  {
   "cell_type": "code",
   "execution_count": 35,
   "metadata": {},
   "outputs": [
    {
     "name": "stdout",
     "output_type": "stream",
     "text": [
      "[('Greatly enjoyed this 1945 mystery thriller film about a young woman, Nina Foch,(Julia Ross) who is out of work and has fallen behind in her rent and is desperate to find work. Julia reads an ad in the local London newspaper looking for a secretary and rushes out to try and obtain this position. Julia obtains the position and is hired by a Mrs. Hughes, (Dame May Witty) who requires that she lives with her employer in her home and wants her to have no involvement with men friends and Julia tells them she has no family and is free to devote her entire time to this job. George Macready, (Ralph Hughes) is the son of Mrs. Hughes and has some very strange desires for playing around with knives. This was a low budget film and most of the scenes were close ups in order to avoid the expense of a background and costs for scenery. This strange family all live in a huge mansion off the Cornwall Coast of England and there is secret doors and plenty of suspense.', 1), ('When this movie first came out back in 1984, Prince was one of the hottest acts around. Everyone wanted to see this movie, which was not much more than a extended music video. The acting was pretty bad, but what can you expect from musicians acting on the big screen for the first time? Despite that, it was still a very entertaining film! Morris Day and Jerome Benton provide some all time classic comedy, especially their rendition of \"The Password\", which will make you think of Abbott & Costello doing their \"who\\'s on first\" baseball routine.<br /><br />Appolina (who went by a single name then) provided some beautiful breasts, so you had the brief nudity covered. Plus, she is very attractive. And of course, the soundtrack of the album is one of the best Prince ever recorded. Prince later on had a fallout with Warner Bros. and changed his name, but at this particular time in his career, he was at the top of his game.<br /><br />This movie doesn\\'t rank in the all time great category, but it is pretty entertaining.', 1), ('I watched the Pie-lette last night and the word that comes to mind is \"original.\" It is a word not used much in TV as they all tend to copy whatever the other network is doing and you end up with seven nights of crime shows, unfunny comedies, and reality crap.<br /><br />The first thing that hit me like a brick was the presence of Jim Dale. Those not familiar with the British \"Carry On ...\" series or those who have not listened to a Harry Potter book, may not be familiar with Dale. I am not sure whether his presence as narrator adds or distracts. I will have to tune in more, but it does give the show a \"Harry Potter\" atmosphere. Maybe that\\'s a good thing.<br /><br />Lee Pace (Infamous, The White Countess) has a gift. It never explains where he got it, but he can bring someone back from the dead for a minute. He teams with Chi McBride (\"Boston Public,\" Roll Bounce) to solve murders using this talent. Everything is fine and funny until he comes across a childhood love, Anna Friel (Goal! The Dream Begins, Timeline) and things really get complicated. He can\\'t send her back and he can never touch her. Boy, would that make a relationship difficult.<br /><br />I will be tuning in to see where this series goes in the expectation that it will continue to entertain.', 1)]\n"
     ]
    }
   ],
   "source": [
    "print(dataSet['train'][0:3])"
   ]
  }
 ],
 "metadata": {
  "kernelspec": {
   "display_name": "Python 3 (ipykernel)",
   "language": "python",
   "name": "python3"
  },
  "language_info": {
   "codemirror_mode": {
    "name": "ipython",
    "version": 3
   },
   "file_extension": ".py",
   "mimetype": "text/x-python",
   "name": "python",
   "nbconvert_exporter": "python",
   "pygments_lexer": "ipython3",
   "version": "3.9.13"
  },
  "orig_nbformat": 4,
  "vscode": {
   "interpreter": {
    "hash": "b83a821131512425ec2a991a5e6dc927ac0fbc9c159319a1177056e6b62cc881"
   }
  }
 },
 "nbformat": 4,
 "nbformat_minor": 2
}
