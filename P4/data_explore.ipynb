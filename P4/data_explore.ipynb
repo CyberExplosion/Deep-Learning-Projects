{
 "cells": [
  {
   "attachments": {},
   "cell_type": "markdown",
   "metadata": {},
   "source": [
    "# Explore the dataset"
   ]
  },
  {
   "cell_type": "code",
   "execution_count": 9,
   "metadata": {},
   "outputs": [],
   "source": [
    "import torch.nn as nn\n",
    "import torch\n",
    "# import os\n",
    "from pathlib import Path"
   ]
  },
  {
   "cell_type": "code",
   "execution_count": 10,
   "metadata": {},
   "outputs": [
    {
     "name": "stdout",
     "output_type": "stream",
     "text": [
      "12077_8.txt: \n",
      "Greatly enjoyed this 1945 mystery thriller film about a young woman, Nina Foch,(Julia Ross) who is out of work and has fallen behind in her rent and is desperate to find work. Julia reads an ad in the local London newspaper looking for a secretary and rushes out to try and obtain this position. Julia obtains the position and is hired by a Mrs. Hughes, (Dame May Witty) who requires that she lives with her employer in her home and wants her to have no involvement with men friends and Julia tells them she has no family and is free to devote her entire time to this job. George Macready, (Ralph Hughes) is the son of Mrs. Hughes and has some very strange desires for playing around with knives. This was a low budget film and most of the scenes were close ups in order to avoid the expense of a background and costs for scenery. This strange family all live in a huge mansion off the Cornwall Coast of England and there is secret doors and plenty of suspense.\n",
      "\n"
     ]
    }
   ],
   "source": [
    "# Reading in 1 file\n",
    "for p in Path('data/text_classification/train/pos/').glob('*.txt'):\n",
    "    print(f'{p.name}: \\n{p.read_text()}\\n')\n",
    "    break"
   ]
  },
  {
   "cell_type": "code",
   "execution_count": 11,
   "metadata": {},
   "outputs": [
    {
     "name": "stdout",
     "output_type": "stream",
     "text": [
      "['Greatly enjoyed this 1945 mystery thriller film about a young woman, Nina Foch,(Julia Ross) who is out of work and has fallen behind in her rent and is desperate to find work. Julia reads an ad in the local London newspaper looking for a secretary and rushes out to try and obtain this position. Julia obtains the position and is hired by a Mrs. Hughes, (Dame May Witty) who requires that she lives with her employer in her home and wants her to have no involvement with men friends and Julia tells them she has no family and is free to devote her entire time to this job. George Macready, (Ralph Hughes) is the son of Mrs. Hughes and has some very strange desires for playing around with knives. This was a low budget film and most of the scenes were close ups in order to avoid the expense of a background and costs for scenery. This strange family all live in a huge mansion off the Cornwall Coast of England and there is secret doors and plenty of suspense.', 'When this movie first came out back in 1984, Prince was one of the hottest acts around. Everyone wanted to see this movie, which was not much more than a extended music video. The acting was pretty bad, but what can you expect from musicians acting on the big screen for the first time? Despite that, it was still a very entertaining film! Morris Day and Jerome Benton provide some all time classic comedy, especially their rendition of \"The Password\", which will make you think of Abbott & Costello doing their \"who\\'s on first\" baseball routine.<br /><br />Appolina (who went by a single name then) provided some beautiful breasts, so you had the brief nudity covered. Plus, she is very attractive. And of course, the soundtrack of the album is one of the best Prince ever recorded. Prince later on had a fallout with Warner Bros. and changed his name, but at this particular time in his career, he was at the top of his game.<br /><br />This movie doesn\\'t rank in the all time great category, but it is pretty entertaining.']\n"
     ]
    }
   ],
   "source": [
    "# Read all files into an array of string\n",
    "posReviews = []\n",
    "for p in Path('data/text_classification/train/pos/').glob('*.txt'):\n",
    "    posReviews.append(p.read_text(encoding='utf8'))\n",
    "print(posReviews[0:2])"
   ]
  },
  {
   "cell_type": "code",
   "execution_count": 12,
   "metadata": {},
   "outputs": [
    {
     "name": "stdout",
     "output_type": "stream",
     "text": [
      "FIle name: 12077_8.txt File content: Greatly enjoyed this 1945 mystery thriller film about a young woman, Nina Foch,(Julia Ross) who is out of work and has fallen behind in her rent and is desperate to find work. Julia reads an ad in the local London newspaper looking for a secretary and rushes out to try and obtain this position. Julia obtains the position and is hired by a Mrs. Hughes, (Dame May Witty) who requires that she lives with her employer in her home and wants her to have no involvement with men friends and Julia tells them she has no family and is free to devote her entire time to this job. George Macready, (Ralph Hughes) is the son of Mrs. Hughes and has some very strange desires for playing around with knives. This was a low budget film and most of the scenes were close ups in order to avoid the expense of a background and costs for scenery. This strange family all live in a huge mansion off the Cornwall Coast of England and there is secret doors and plenty of suspense. and grade: 8\n",
      "FIle name: 9129_8.txt File content: When this movie first came out back in 1984, Prince was one of the hottest acts around. Everyone wanted to see this movie, which was not much more than a extended music video. The acting was pretty bad, but what can you expect from musicians acting on the big screen for the first time? Despite that, it was still a very entertaining film! Morris Day and Jerome Benton provide some all time classic comedy, especially their rendition of \"The Password\", which will make you think of Abbott & Costello doing their \"who's on first\" baseball routine.<br /><br />Appolina (who went by a single name then) provided some beautiful breasts, so you had the brief nudity covered. Plus, she is very attractive. And of course, the soundtrack of the album is one of the best Prince ever recorded. Prince later on had a fallout with Warner Bros. and changed his name, but at this particular time in his career, he was at the top of his game.<br /><br />This movie doesn't rank in the all time great category, but it is pretty entertaining. and grade: 8\n",
      "FIle name: 2342_8.txt File content: I watched the Pie-lette last night and the word that comes to mind is \"original.\" It is a word not used much in TV as they all tend to copy whatever the other network is doing and you end up with seven nights of crime shows, unfunny comedies, and reality crap.<br /><br />The first thing that hit me like a brick was the presence of Jim Dale. Those not familiar with the British \"Carry On ...\" series or those who have not listened to a Harry Potter book, may not be familiar with Dale. I am not sure whether his presence as narrator adds or distracts. I will have to tune in more, but it does give the show a \"Harry Potter\" atmosphere. Maybe that's a good thing.<br /><br />Lee Pace (Infamous, The White Countess) has a gift. It never explains where he got it, but he can bring someone back from the dead for a minute. He teams with Chi McBride (\"Boston Public,\" Roll Bounce) to solve murders using this talent. Everything is fine and funny until he comes across a childhood love, Anna Friel (Goal! The Dream Begins, Timeline) and things really get complicated. He can't send her back and he can never touch her. Boy, would that make a relationship difficult.<br /><br />I will be tuning in to see where this series goes in the expectation that it will continue to entertain. and grade: 8\n"
     ]
    }
   ],
   "source": [
    "# Import all text and use the points as their labels\n",
    "reviews = []\n",
    "pts = []\n",
    "count = 0\n",
    "for p in Path('data/text_classification/train/pos/').glob('*.txt'):\n",
    "    reviews.append(p.read_text(encoding='utf8'))\n",
    "    tailName = p.name.split('_')\n",
    "    grade = tailName[1].strip('.txt')   # strip the tail\n",
    "    pts.append(grade)\n",
    "    if count == 3:\n",
    "        break\n",
    "    print(f'FIle name: {p.name} File content: {reviews[count]} and grade: {pts[count]}')\n",
    "    count += 1\n"
   ]
  },
  {
   "cell_type": "code",
   "execution_count": null,
   "metadata": {},
   "outputs": [],
   "source": [
    "# # seperate into train and test, positive and negative\n",
    "# reviews = {}\n",
    "# reviews['train'] = {}\n",
    "# reviews['train']['pos'] = []\n",
    "# reviews['train']['neg'] = []\n",
    "# reviews['test'] = {}\n",
    "# reviews['test']['pos'] = []\n",
    "# reviews['test']['neg'] = []\n",
    "# for p in Path('data/text_classification/train/pos/').glob('*.txt'):\n",
    "#     reviews['train']['pos'].append(p.read_text(encoding='utf8'))\n",
    "# for p in Path('data/text_classification/train/neg/').glob('*.txt'):\n",
    "#     reviews['train']['neg'].append(p.read_text(encoding='utf8'))\n",
    "# \n",
    "# for p in Path('data/text_classification/test/pos/').glob('*.txt'):\n",
    "#     reviews['test']['pos'].append(p.read_text(encoding='utf8'))\n",
    "# for p in Path('data/text_classification/test/neg/').glob('*.txt'):\n",
    "#     reviews['test']['neg'].append(p.read_text(encoding='utf8'))\n",
    "# \n",
    "# reviews"
   ]
  },
  {
   "cell_type": "code",
   "execution_count": 27,
   "metadata": {},
   "outputs": [],
   "source": [
    "# combine both negative and pos in train and test to train\n",
    "dataSet = {}\n",
    "dataSet['train'] = []\n",
    "dataSet['test'] = []\n",
    "for p in Path('data/text_classification/train/pos/').glob('*.txt'): # 1 is pos and 0 is neg\n",
    "    entry = p.read_text(encoding='utf8')\n",
    "    dataSet['train'].append((entry, 1))\n",
    "for p in Path('data/text_classification/train/neg/').glob('*.txt'): # 1 is pos and 0 is neg\n",
    "    entry = p.read_text(encoding='utf8')\n",
    "    dataSet['train'].append((entry, 0))\n",
    "\n",
    "for p in Path('data/text_classification/test/pos/').glob('*.txt'): # 1 is pos and 0 is neg\n",
    "    entry = p.read_text(encoding='utf8')\n",
    "    dataSet['test'].append((entry, 1))\n",
    "for p in Path('data/text_classification/test/neg/').glob('*.txt'): # 1 is pos and 0 is neg\n",
    "    entry = p.read_text(encoding='utf8')\n",
    "    dataSet['test'].append((entry, 0))\n"
   ]
  },
  {
   "cell_type": "code",
   "execution_count": 28,
   "metadata": {},
   "outputs": [
    {
     "data": {
      "text/plain": [
       "('Greatly enjoyed this 1945 mystery thriller film about a young woman, Nina Foch,(Julia Ross) who is out of work and has fallen behind in her rent and is desperate to find work. Julia reads an ad in the local London newspaper looking for a secretary and rushes out to try and obtain this position. Julia obtains the position and is hired by a Mrs. Hughes, (Dame May Witty) who requires that she lives with her employer in her home and wants her to have no involvement with men friends and Julia tells them she has no family and is free to devote her entire time to this job. George Macready, (Ralph Hughes) is the son of Mrs. Hughes and has some very strange desires for playing around with knives. This was a low budget film and most of the scenes were close ups in order to avoid the expense of a background and costs for scenery. This strange family all live in a huge mansion off the Cornwall Coast of England and there is secret doors and plenty of suspense.',\n",
       " 1)"
      ]
     },
     "execution_count": 28,
     "metadata": {},
     "output_type": "execute_result"
    }
   ],
   "source": [
    "dataSet['train'][0]"
   ]
  },
  {
   "cell_type": "code",
   "execution_count": 30,
   "metadata": {},
   "outputs": [
    {
     "data": {
      "text/plain": [
       "(\"This has to be one of the best movies we have seen and we highly recommend it for it's exposure of the injustices of bigotry. Billy Wirth is an incomparable actor and truly awesome as Corby/White Wolf. However, felt the story would have been enhanced if his character had more scenes. This is a movie that can be watched over and over without tiring.\",\n",
       " 1)"
      ]
     },
     "execution_count": 30,
     "metadata": {},
     "output_type": "execute_result"
    }
   ],
   "source": [
    "dataSet['test'][1]"
   ]
  },
  {
   "cell_type": "code",
   "execution_count": 33,
   "metadata": {},
   "outputs": [
    {
     "name": "stdout",
     "output_type": "stream",
     "text": [
      "('One of the worst films I have ever seen. Got so bored that I switched it off midway through to watch the news. When I switched it back on, I fell asleep. The film starts with a dream, continues with a dream, and ends with a dream. Then there are a few more dreams in between. Come on, what is supposed to keep me interested in that? A film needs to have a reason to be interesting. The minute you felt the film was only a dream is when any sensible film-goer switches off. Ever had someone insist on telling you their dreams and what it means to them? This is it!!!<br /><br />Absolutely awful.', 0)\n",
      "(\"Well it looked good on paper,Nick Cage and Jerry Buckheimer collaborate again, this time on a mix of heist movie, Da Vinci Code,American History 101 and Indiana Jones. But oh dear, this is to Indiana Jones what Speed 2 is to Speed. A reasonable cast(including John Voight and Harvey Keitel) battles against a puerile script and loses badly. The film is little more than an extended advert for the Freemasons.However these Freemasons are not your usual shopkeepers who use funny handshakes and play golf, these Freemasons are the natural descendants of the Knights Templar (and nobody mention 'From Hell' or Jack the Ripper.)I don't think I've revealed any plot spoilers because there are none. There is virtually no suspense, no surprises and no climax- it just stops. National Treasure aims for Dan Brown but hits the same intellectual level as an episode of Scooby Doo sans the humour.\", 0)\n",
      "('I recently rented the animated version of The Lord of the Rings on video after seeing the FANTASTIC 2001 live action version of the film. The Lord of the Rings live action trilogy directed by Peter Jackson will undoubtably be far better than George Lucas\\' Star Wars \"prequel\" trilogy (Episodes 1-3) will ever be as the real fantasy film series of the 21st century!<br /><br />I remember seeing the animated version as a child, and I didn\\'t quite understand the depth of the film at that time. Now that I have read the books, I understand what the whole storyline is all about. To be sure, some of the characters are quite silly, (Samwise Gangee is particularly annoying, almost as much as Jar Jar Binks in Star Wars Episode One, (AWFUL!)) but, I have to say it follows the book rather closely, and it goes into part of book two, The Two Towers. The good things are that the action is somewhat interesting and some of the animation is quite remarkable for it\\'s time. The bad things are that it ends upruptly halfway through The Two Towers without any result of Frodo\\'s quest to destroy the one ring, and the animation looks quite dated compared to today\\'s standards. <br /><br />Overall, not AS bad as many say it is. BUT, the 2001 live action version is the new hallmark of The Lord of the Rings! At least Ralph Bakshi took the script seriously! Peter Jackson has said that the animated version inspired him to read the books, which in turn caused him to create one of the greatest fantasy series ever put on film, so we can at least thank Ralph Bakshi for that matter! I\\'ll take the animated version of Lord of the Rings over the live version of Harry Potter anyday!<br /><br />A 7 out of a scale of 1-10, far LESS violent than the 2001 live action version, but NOWHERE near as good! For diehard fans of the books and film versions of The Lord of the Rings.', 1)\n"
     ]
    }
   ],
   "source": [
    "# Shuffle all data and pick to get a good distribution amount of pos and neg review while train\n",
    "permutation = torch.randperm(len(dataSet['train']))\n",
    "for i in range(0, 3):\n",
    "    randIdx = permutation[i]\n",
    "    print(dataSet['train'][randIdx])"
   ]
  },
  {
   "attachments": {},
   "cell_type": "markdown",
   "metadata": {},
   "source": [
    "# Data Cleaning"
   ]
  },
  {
   "cell_type": "code",
   "execution_count": 36,
   "metadata": {},
   "outputs": [
    {
     "ename": "ModuleNotFoundError",
     "evalue": "No module named 'nltk'",
     "output_type": "error",
     "traceback": [
      "\u001b[0;31m---------------------------------------------------------------------------\u001b[0m",
      "\u001b[0;31mModuleNotFoundError\u001b[0m                       Traceback (most recent call last)",
      "Cell \u001b[0;32mIn [36], line 1\u001b[0m\n\u001b[0;32m----> 1\u001b[0m \u001b[39mimport\u001b[39;00m \u001b[39mnltk\u001b[39;00m\n",
      "\u001b[0;31mModuleNotFoundError\u001b[0m: No module named 'nltk'"
     ]
    }
   ],
   "source": [
    "import nltk"
   ]
  },
  {
   "cell_type": "code",
   "execution_count": 35,
   "metadata": {},
   "outputs": [
    {
     "name": "stdout",
     "output_type": "stream",
     "text": [
      "[(['Greatly', 'enjoyed', 'this', '1945', 'mystery', 'thriller', 'film', 'about', 'a', 'young', 'woman,', 'Nina', 'Foch,(Julia', 'Ross)', 'who', 'is', 'out', 'of', 'work', 'and', 'has', 'fallen', 'behind', 'in', 'her', 'rent', 'and', 'is', 'desperate', 'to', 'find', 'work.', 'Julia', 'reads', 'an', 'ad', 'in', 'the', 'local', 'London', 'newspaper', 'looking', 'for', 'a', 'secretary', 'and', 'rushes', 'out', 'to', 'try', 'and', 'obtain', 'this', 'position.', 'Julia', 'obtains', 'the', 'position', 'and', 'is', 'hired', 'by', 'a', 'Mrs.', 'Hughes,', '(Dame', 'May', 'Witty)', 'who', 'requires', 'that', 'she', 'lives', 'with', 'her', 'employer', 'in', 'her', 'home', 'and', 'wants', 'her', 'to', 'have', 'no', 'involvement', 'with', 'men', 'friends', 'and', 'Julia', 'tells', 'them', 'she', 'has', 'no', 'family', 'and', 'is', 'free', 'to', 'devote', 'her', 'entire', 'time', 'to', 'this', 'job.', 'George', 'Macready,', '(Ralph', 'Hughes)', 'is', 'the', 'son', 'of', 'Mrs.', 'Hughes', 'and', 'has', 'some', 'very', 'strange', 'desires', 'for', 'playing', 'around', 'with', 'knives.', 'This', 'was', 'a', 'low', 'budget', 'film', 'and', 'most', 'of', 'the', 'scenes', 'were', 'close', 'ups', 'in', 'order', 'to', 'avoid', 'the', 'expense', 'of', 'a', 'background', 'and', 'costs', 'for', 'scenery.', 'This', 'strange', 'family', 'all', 'live', 'in', 'a', 'huge', 'mansion', 'off', 'the', 'Cornwall', 'Coast', 'of', 'England', 'and', 'there', 'is', 'secret', 'doors', 'and', 'plenty', 'of', 'suspense.'], 1)]\n"
     ]
    }
   ],
   "source": [
    "# Now have to read them in as dictionary so that we can split each word and turn whole doc to list of word\n",
    "# combine both negative and pos in train and test to train\n",
    "cleanedTrainData = []\n",
    "for entry in dataSet['train']:\n",
    "    text = entry[0]\n",
    "    # split into white space\n",
    "    words = text.split()\n",
    "    cleanedTrainData.append((words, entry[1]))\n",
    "    break\n",
    "\n",
    "print(cleanedTrainData)"
   ]
  }
 ],
 "metadata": {
  "kernelspec": {
   "display_name": "Python 3 (ipykernel)",
   "language": "python",
   "name": "python3"
  },
  "language_info": {
   "codemirror_mode": {
    "name": "ipython",
    "version": 3
   },
   "file_extension": ".py",
   "mimetype": "text/x-python",
   "name": "python",
   "nbconvert_exporter": "python",
   "pygments_lexer": "ipython3",
   "version": "3.9.13"
  },
  "orig_nbformat": 4,
  "vscode": {
   "interpreter": {
    "hash": "b83a821131512425ec2a991a5e6dc927ac0fbc9c159319a1177056e6b62cc881"
   }
  }
 },
 "nbformat": 4,
 "nbformat_minor": 2
}
