{
 "cells": [
  {
   "attachments": {},
   "cell_type": "markdown",
   "metadata": {},
   "source": [
    "# Exploring the training data set for stage 3\n"
   ]
  },
  {
   "cell_type": "code",
   "execution_count": 2,
   "metadata": {},
   "outputs": [],
   "source": [
    "import pickle\n",
    "import matplotlib.pyplot as plt"
   ]
  },
  {
   "cell_type": "code",
   "execution_count": 3,
   "metadata": {},
   "outputs": [
    {
     "name": "stdout",
     "output_type": "stream",
     "text": [
      "training set size: 360 testing set size: 40\n"
     ]
    },
    {
     "data": {
      "image/png": "[encoded data removed]",
      "text/plain": [
       "<Figure size 640x480 with 1 Axes>"
      ]
     },
     "metadata": {},
     "output_type": "display_data"
    },
    {
     "name": "stdout",
     "output_type": "stream",
     "text": [
      "1\n"
     ]
    }
   ],
   "source": [
    "f = open('./data/ORL', 'rb')\n",
    "data = pickle.load(f)\n",
    "\n",
    "f.close()\n",
    "\n",
    "print('training set size:', len(data['train']), 'testing set size:', len(data['test']))\n",
    "\n",
    "for pair in data['train']:\n",
    "    #for pair in data['test']:\n",
    "    plt.imshow(pair['image'], cmap=\"Greys\")\n",
    "    plt.show()\n",
    "    print(pair['label'])\n",
    "    break"
   ]
  },
  {
   "cell_type": "code",
   "execution_count": 4,
   "metadata": {},
   "outputs": [
    {
     "name": "stdout",
     "output_type": "stream",
     "text": [
      "{'image': array([[[48, 48, 48],\n",
      "        [49, 49, 49],\n",
      "        [45, 45, 45],\n",
      "        ...,\n",
      "        [56, 56, 56],\n",
      "        [56, 56, 56],\n",
      "        [54, 54, 54]],\n",
      "\n",
      "       [[45, 45, 45],\n",
      "        [52, 52, 52],\n",
      "        [39, 39, 39],\n",
      "        ...,\n",
      "        [52, 52, 52],\n",
      "        [50, 50, 50],\n",
      "        [51, 51, 51]],\n",
      "\n",
      "       [[45, 45, 45],\n",
      "        [50, 50, 50],\n",
      "        [42, 42, 42],\n",
      "        ...,\n",
      "        [48, 48, 48],\n",
      "        [53, 53, 53],\n",
      "        [50, 50, 50]],\n",
      "\n",
      "       ...,\n",
      "\n",
      "       [[50, 50, 50],\n",
      "        [48, 48, 48],\n",
      "        [50, 50, 50],\n",
      "        ...,\n",
      "        [45, 45, 45],\n",
      "        [46, 46, 46],\n",
      "        [46, 46, 46]],\n",
      "\n",
      "       [[45, 45, 45],\n",
      "        [54, 54, 54],\n",
      "        [49, 49, 49],\n",
      "        ...,\n",
      "        [46, 46, 46],\n",
      "        [47, 47, 47],\n",
      "        [47, 47, 47]],\n",
      "\n",
      "       [[51, 51, 51],\n",
      "        [51, 51, 51],\n",
      "        [51, 51, 51],\n",
      "        ...,\n",
      "        [47, 47, 47],\n",
      "        [46, 46, 46],\n",
      "        [46, 46, 46]]], dtype=uint8), 'label': 1}\n",
      " width: 112 height: 92\n"
     ]
    }
   ],
   "source": [
    "print(data['train'][0])\n",
    "print(f\" width: {len(data['train'][0]['image'])} height: {len(data['train'][0]['image'][0])}\")"
   ]
  },
  {
   "cell_type": "code",
   "execution_count": 5,
   "metadata": {},
   "outputs": [
    {
     "name": "stdout",
     "output_type": "stream",
     "text": [
      "1\n"
     ]
    }
   ],
   "source": [
    "print(data['train'][0]['label'])"
   ]
  },
  {
   "cell_type": "code",
   "execution_count": 6,
   "metadata": {},
   "outputs": [],
   "source": [
    "from torch import nn\n",
    "import torch"
   ]
  },
  {
   "cell_type": "code",
   "execution_count": 38,
   "metadata": {},
   "outputs": [
    {
     "data": {
      "text/plain": [
       "torch.Size([112, 92, 3])"
      ]
     },
     "execution_count": 38,
     "metadata": {},
     "output_type": "execute_result"
    }
   ],
   "source": [
    "newX = torch.from_numpy(data['train'][0]['image'])\n",
    "newX.shape"
   ]
  },
  {
   "cell_type": "code",
   "execution_count": 39,
   "metadata": {},
   "outputs": [
    {
     "data": {
      "text/plain": [
       "torch.Size([1, 3, 112, 92])"
      ]
     },
     "execution_count": 39,
     "metadata": {},
     "output_type": "execute_result"
    }
   ],
   "source": [
    "# Have to permute to have the color channel to the front of the tensor\n",
    "newX = newX.permute(2,0,1)\n",
    "newX = newX.unsqueeze(0).float()\n",
    "newX.shape"
   ]
  },
  {
   "cell_type": "code",
   "execution_count": 40,
   "metadata": {},
   "outputs": [
    {
     "data": {
      "text/plain": [
       "torch.Size([1, 3, 92, 92])"
      ]
     },
     "execution_count": 40,
     "metadata": {},
     "output_type": "execute_result"
    }
   ],
   "source": [
    "scaled = nn.functional.interpolate(newX, (92, 92), mode='bilinear')\n",
    "scaled.shape"
   ]
  },
  {
   "attachments": {},
   "cell_type": "markdown",
   "metadata": {},
   "source": [
    "# Further improvement that may be done later\n",
    "## Data range and Normalization"
   ]
  }
 ],
 "metadata": {
  "kernelspec": {
   "display_name": "Python 3 (ipykernel)",
   "language": "python",
   "name": "python3"
  },
  "language_info": {
   "codemirror_mode": {
    "name": "ipython",
    "version": 3
   },
   "file_extension": ".py",
   "mimetype": "text/x-python",
   "name": "python",
   "nbconvert_exporter": "python",
   "pygments_lexer": "ipython3",
   "version": "3.9.13"
  },
  "orig_nbformat": 4,
  "vscode": {
   "interpreter": {
    "hash": "2d58e898dde0263bc564c6968b04150abacfd33eed9b19aaa8e45c040360e146"
   }
  }
 },
 "nbformat": 4,
 "nbformat_minor": 2
}
